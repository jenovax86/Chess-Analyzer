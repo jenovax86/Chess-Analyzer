{
 "cells": [
  {
   "cell_type": "markdown",
   "id": "317146d2-1c2e-4007-b3cc-b24040c1dcd6",
   "metadata": {},
   "source": [
    "# A Simple Chess Analyzer"
   ]
  },
  {
   "cell_type": "markdown",
   "id": "7b6cfb79-7c1b-49cc-9407-ed334823e8b8",
   "metadata": {},
   "source": [
    "## Environment Setup"
   ]
  },
  {
   "cell_type": "code",
   "execution_count": null,
   "id": "d5f5b214-ec50-47b3-ae1a-13f74466c597",
   "metadata": {},
   "outputs": [],
   "source": [
    "%load_ext autoreload\n",
    "%autoreload 2\n",
    "# Set up root path for finding package\n",
    "import os\n",
    "import sys\n",
    "import pandas as pd\n",
    "import matplotlib.pyplot as plt   \n",
    "import seaborn as sns\n",
    "\n",
    "root = os.path.abspath(os.path.join(os.getcwd(), \"..\"))\n",
    "if root not in sys.path:\n",
    "    sys.path.append(root)\n",
    "\n",
    "from src.chess_assistant.fetch_games import get_player_info\n",
    "from src.chess_assistant.accuracy_analyzer import get_accuracy_by_time_class\n"
   ]
  },
  {
   "cell_type": "markdown",
   "id": "b9c00de0-ef84-4c38-9b22-bcfc98bc7631",
   "metadata": {},
   "source": [
    "## Fetching the player data"
   ]
  },
  {
   "cell_type": "code",
   "execution_count": null,
   "id": "911b0782-9c14-4349-b8a3-4c1c0bc0ee35",
   "metadata": {},
   "outputs": [],
   "source": [
    "username = input(\"Enter your chess.com username: \")\n",
    "player_info = get_player_info(username)"
   ]
  },
  {
   "cell_type": "markdown",
   "id": "52a49407-a289-4624-90e9-de36b1b6d32e",
   "metadata": {},
   "source": [
    "## Analyze Overall Match Outcomes"
   ]
  },
  {
   "cell_type": "code",
   "execution_count": null,
   "id": "74f6b73f-7eca-4b59-9b8b-0957c2612a00",
   "metadata": {},
   "outputs": [],
   "source": [
    "def win_loss_estimation(data_frame):\n",
    "    plt.figure(figsize= (12, 6))\n",
    "    chart = sns.countplot(data = data_frame, x = 'result')\n",
    "    plt.title(\"result\")\n",
    "    plt.margins(x = 0.1)\n",
    "    plt.show()\n",
    "\n",
    "win_loss_estimation(player_info)"
   ]
  },
  {
   "cell_type": "markdown",
   "id": "1b870810-1a4e-4a6c-ba63-72a9d939280b",
   "metadata": {},
   "source": [
    "## Analyze Match Outcomes Based On Specific Time Class(e.g., rapid, blitz, bullet)"
   ]
  },
  {
   "cell_type": "code",
   "execution_count": null,
   "id": "6107aa44-2693-49ae-9e0c-bbfa9c39c625",
   "metadata": {},
   "outputs": [],
   "source": [
    "def analyze_match_outcomes_by_time_class(data_frame, time_class):\n",
    "    result = data_frame[data_frame[\"time_class\"] == time_class]\n",
    "    plt.figure(figsize= (12, 6))\n",
    "    chart = sns.countplot(data = result, x = \"result\")\n",
    "    plt.title(f\"Chart of {time_class} time class\")\n",
    "    plt.margins(x = 0.1)\n",
    "    plt.show()\n",
    "\n",
    "# rapid, blitz, bullet\n",
    "analyze_match_outcomes_by_time_class(player_info, \"rapid\")\n",
    "analyze_match_outcomes_by_time_class(player_info, \"blitz\")\n",
    "analyze_match_outcomes_by_time_class(player_info, \"bullet\")"
   ]
  },
  {
   "cell_type": "markdown",
   "id": "fdb2d86c-5d89-496b-80f6-b6c8400b2f02",
   "metadata": {},
   "source": [
    "## Rating Progression Over Time"
   ]
  },
  {
   "cell_type": "code",
   "execution_count": null,
   "id": "607de485-0c85-4cd1-abb7-9b0a64a5d542",
   "metadata": {},
   "outputs": [],
   "source": [
    "def rating_over_time(data_frame):\n",
    "    sort_values = data_frame.sort_values(\"end_time\")\n",
    "    player = data_frame[(data_frame[\"white\"] == username) | (data_frame[\"black\"] == username)]\n",
    "    player[\"player_rating\"] = player.apply(\n",
    "        lambda row: row[\"white_rating\"] if row[\"white\"] == username else row[\"black_rating\"],\n",
    "        axis = 1\n",
    "    )\n",
    "    plt.figure(figsize = (12, 6))\n",
    "    player.plot(x = \"end_time\", y = \"player_rating\", title = f\"{username}'s Rating over time\")\n",
    "    plt.ylabel(\"Rating\")\n",
    "    plt.show()\n",
    "\n",
    "rating_over_time(player_info)"
   ]
  },
  {
   "cell_type": "markdown",
   "id": "487b9d1f-185c-4c25-b799-c9d258ed397d",
   "metadata": {},
   "source": [
    "## Rating Progression Over Time by Time Class(e.g., rapid, blitz, bullet)"
   ]
  },
  {
   "cell_type": "code",
   "execution_count": null,
   "id": "2b5e199a-0ea3-4fe7-bb2a-8b5a7cbd81d7",
   "metadata": {},
   "outputs": [],
   "source": [
    "def get_player_games(dataframe, username, time_class):\n",
    "    player_games = dataframe[(dataframe[\"white\"] == username) | (dataframe[\"black\"] == username)]\n",
    "    if time_class:\n",
    "         player_games = player_games[player_games[\"time_class\"] == time_class]\n",
    "    return player_games\n",
    "\n",
    "def rating_over_time_by_time_class(target_username, dataframe, time_class):\n",
    "    sort_values = dataframe.sort_values(\"end_time\")\n",
    "    player_games = get_player_games(dataframe, target_username, time_class)\n",
    "    player_games[\"player_rating\"] = player_games.apply(\n",
    "        lambda row: (\n",
    "            row[\"white_rating\"] if row[\"white\"] == username else row[\"black_rating\"]\n",
    "        ),\n",
    "        axis=1,\n",
    "    )\n",
    "    plt.figure(figsize=(12, 6))\n",
    "    player_games.plot(x=\"end_time\", y=\"player_rating\", title=f\"{username}'s {time_class} Rating over time\")\n",
    "    plt.ylabel(\"Rating\")\n",
    "    plt.show()\n",
    "\n",
    "# rapid, blitz, bullet\n",
    "rating_over_time_by_time_class(username, player_info, \"rapid\")\n",
    "rating_over_time_by_time_class(username, player_info, \"blitz\")\n",
    "rating_over_time_by_time_class(username, player_info, \"bullet\")"
   ]
  },
  {
   "cell_type": "markdown",
   "id": "305d774c-b7ec-4b59-ac94-bbfdc97c3fe4",
   "metadata": {},
   "source": [
    "# Performance by Time Control"
   ]
  },
  {
   "cell_type": "code",
   "execution_count": null,
   "id": "25fe1257-783f-4b0d-b0cc-c24e7c7ee4b7",
   "metadata": {},
   "outputs": [],
   "source": [
    "def performance_by_time_control(data_frame):\n",
    "    plt.figure(figsize= (12, 6))\n",
    "    sns.countplot(data = data_frame, x = \"time_class\", hue = \"result\")\n",
    "    plt.title(\"Performance\")\n",
    "    plt.show()\n",
    "\n",
    "performance_by_time_control(player_info)"
   ]
  },
  {
   "cell_type": "markdown",
   "id": "59d0c03a-4d60-4714-b566-e37a6975ad13",
   "metadata": {},
   "source": [
    "## Strongest Opponents Defeated\n",
    "#### Shows the strongest opponents that the requested player has beaten."
   ]
  },
  {
   "cell_type": "code",
   "execution_count": null,
   "id": "14b87719-3a5d-4a12-a3c0-4b63f7dd3144",
   "metadata": {},
   "outputs": [],
   "source": [
    "def strongest_beaten_opponents(data_frame):\n",
    "    wins = data_frame[data_frame[\"result\"] == \"win\"].copy()\n",
    "    wins[\"opponent\"] = wins.apply(\n",
    "        lambda row: row[\"black\"] if row[\"white\"] == username else row[\"white\"],\n",
    "        axis = 1\n",
    "    )\n",
    "    wins[\"opponent_rating\"] = wins.apply(\n",
    "        lambda row : row[\"black_rating\"] if row[\"white\"] == username else row[\"white_rating\"],\n",
    "        axis = 1\n",
    "    )\n",
    "    top_opponents = wins.sort_values(by = \"opponent_rating\", ascending = False).head(20)\n",
    "    return top_opponents[[\"opponent\", \"opponent_rating\"]]\n",
    "\n",
    "strongest_beaten_opponents(player_info)"
   ]
  },
  {
   "cell_type": "markdown",
   "id": "e53f481a-20eb-44d0-8d3a-894b7797ba2f",
   "metadata": {},
   "source": [
    "## Accuracy by Time Control\n",
    "#### Displays how accurately the player performs across different game formats (e.g., bullet, blitz, rapid), helping identify where their decision-making is strongest."
   ]
  },
  {
   "cell_type": "code",
   "execution_count": null,
   "id": "d1d21a08-c2d2-4b3b-9e48-22208bf4f8e6",
   "metadata": {},
   "outputs": [],
   "source": [
    "TIME_CLASSES = [\"bullet\", \"blitz\", \"rapid\"]\n",
    "def show_acc_by_time_classes():\n",
    "    accuracies = []\n",
    "    for time_class in TIME_CLASSES:\n",
    "        accuracy = get_accuracy_by_time_class(time_class, player_info, username)\n",
    "        accuracies.append({\n",
    "            \"time_class\": time_class.capitalize(),\n",
    "            \"accuracy\": accuracy\n",
    "        })\n",
    "    \n",
    "    df = pd.DataFrame(accuracies)\n",
    "    df[\"accuracy\"] = df[\"accuracy\"].astype(float)\n",
    "    data = df[\"accuracy\"]\n",
    "\n",
    "    fig = plt.figure(figsize = (8, 5))\n",
    "    plt.title(\"Accuracy by time control\")\n",
    "    plt.bar(TIME_CLASSES, data, color =[\"#1f77b4\", \"#ff7f0e\", \"#2ca02c\"])\n",
    "    plt.ylabel(\"Accuracy (%)\")\n",
    "    plt.show()\n",
    "    \n",
    "show_acc_by_time_classes()"
   ]
  }
 ],
 "metadata": {
  "kernelspec": {
   "display_name": "Python 3",
   "language": "python",
   "name": "python3"
  },
  "language_info": {
   "codemirror_mode": {
    "name": "ipython",
    "version": 3
   },
   "file_extension": ".py",
   "mimetype": "text/x-python",
   "name": "python",
   "nbconvert_exporter": "python",
   "pygments_lexer": "ipython3",
   "version": "3.10.12"
  }
 },
 "nbformat": 4,
 "nbformat_minor": 5
}
